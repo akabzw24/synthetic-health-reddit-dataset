{
 "cells": [
  {
   "cell_type": "code",
   "execution_count": 1,
   "id": "ac12ebf6-c160-4c99-ba6f-70415d48abb4",
   "metadata": {},
   "outputs": [
    {
     "name": "stdout",
     "output_type": "stream",
     "text": [
      "Requirement already satisfied: datasets in /opt/anaconda3/lib/python3.12/site-packages (3.6.0)\n",
      "Requirement already satisfied: filelock in /opt/anaconda3/lib/python3.12/site-packages (from datasets) (3.13.1)\n",
      "Requirement already satisfied: numpy>=1.17 in /opt/anaconda3/lib/python3.12/site-packages (from datasets) (1.26.4)\n",
      "Requirement already satisfied: pyarrow>=15.0.0 in /opt/anaconda3/lib/python3.12/site-packages (from datasets) (20.0.0)\n",
      "Requirement already satisfied: dill<0.3.9,>=0.3.0 in /opt/anaconda3/lib/python3.12/site-packages (from datasets) (0.3.8)\n",
      "Requirement already satisfied: pandas in /opt/anaconda3/lib/python3.12/site-packages (from datasets) (2.2.2)\n",
      "Requirement already satisfied: requests>=2.32.2 in /opt/anaconda3/lib/python3.12/site-packages (from datasets) (2.32.2)\n",
      "Requirement already satisfied: tqdm>=4.66.3 in /opt/anaconda3/lib/python3.12/site-packages (from datasets) (4.66.4)\n",
      "Requirement already satisfied: xxhash in /opt/anaconda3/lib/python3.12/site-packages (from datasets) (3.5.0)\n",
      "Requirement already satisfied: multiprocess<0.70.17 in /opt/anaconda3/lib/python3.12/site-packages (from datasets) (0.70.16)\n",
      "Requirement already satisfied: fsspec<=2025.3.0,>=2023.1.0 in /opt/anaconda3/lib/python3.12/site-packages (from fsspec[http]<=2025.3.0,>=2023.1.0->datasets) (2024.3.1)\n",
      "Requirement already satisfied: huggingface-hub>=0.24.0 in /opt/anaconda3/lib/python3.12/site-packages (from datasets) (0.33.0)\n",
      "Requirement already satisfied: packaging in /opt/anaconda3/lib/python3.12/site-packages (from datasets) (23.2)\n",
      "Requirement already satisfied: pyyaml>=5.1 in /opt/anaconda3/lib/python3.12/site-packages (from datasets) (6.0.1)\n",
      "Collecting aiohttp!=4.0.0a0,!=4.0.0a1 (from fsspec[http]<=2025.3.0,>=2023.1.0->datasets)\n",
      "  Downloading aiohttp-3.12.15-cp312-cp312-macosx_11_0_arm64.whl.metadata (7.7 kB)\n",
      "Requirement already satisfied: typing-extensions>=3.7.4.3 in /opt/anaconda3/lib/python3.12/site-packages (from huggingface-hub>=0.24.0->datasets) (4.11.0)\n",
      "Requirement already satisfied: hf-xet<2.0.0,>=1.1.2 in /opt/anaconda3/lib/python3.12/site-packages (from huggingface-hub>=0.24.0->datasets) (1.1.5)\n",
      "Requirement already satisfied: charset-normalizer<4,>=2 in /opt/anaconda3/lib/python3.12/site-packages (from requests>=2.32.2->datasets) (2.0.4)\n",
      "Requirement already satisfied: idna<4,>=2.5 in /opt/anaconda3/lib/python3.12/site-packages (from requests>=2.32.2->datasets) (3.7)\n",
      "Requirement already satisfied: urllib3<3,>=1.21.1 in /opt/anaconda3/lib/python3.12/site-packages (from requests>=2.32.2->datasets) (2.2.2)\n",
      "Requirement already satisfied: certifi>=2017.4.17 in /opt/anaconda3/lib/python3.12/site-packages (from requests>=2.32.2->datasets) (2024.8.30)\n",
      "Requirement already satisfied: python-dateutil>=2.8.2 in /opt/anaconda3/lib/python3.12/site-packages (from pandas->datasets) (2.9.0.post0)\n",
      "Requirement already satisfied: pytz>=2020.1 in /opt/anaconda3/lib/python3.12/site-packages (from pandas->datasets) (2024.1)\n",
      "Requirement already satisfied: tzdata>=2022.7 in /opt/anaconda3/lib/python3.12/site-packages (from pandas->datasets) (2023.3)\n",
      "Collecting aiohappyeyeballs>=2.5.0 (from aiohttp!=4.0.0a0,!=4.0.0a1->fsspec[http]<=2025.3.0,>=2023.1.0->datasets)\n",
      "  Using cached aiohappyeyeballs-2.6.1-py3-none-any.whl.metadata (5.9 kB)\n",
      "Collecting aiosignal>=1.4.0 (from aiohttp!=4.0.0a0,!=4.0.0a1->fsspec[http]<=2025.3.0,>=2023.1.0->datasets)\n",
      "  Using cached aiosignal-1.4.0-py3-none-any.whl.metadata (3.7 kB)\n",
      "Requirement already satisfied: attrs>=17.3.0 in /opt/anaconda3/lib/python3.12/site-packages (from aiohttp!=4.0.0a0,!=4.0.0a1->fsspec[http]<=2025.3.0,>=2023.1.0->datasets) (23.1.0)\n",
      "Requirement already satisfied: frozenlist>=1.1.1 in /opt/anaconda3/lib/python3.12/site-packages (from aiohttp!=4.0.0a0,!=4.0.0a1->fsspec[http]<=2025.3.0,>=2023.1.0->datasets) (1.4.0)\n",
      "Requirement already satisfied: multidict<7.0,>=4.5 in /opt/anaconda3/lib/python3.12/site-packages (from aiohttp!=4.0.0a0,!=4.0.0a1->fsspec[http]<=2025.3.0,>=2023.1.0->datasets) (6.0.4)\n",
      "Collecting propcache>=0.2.0 (from aiohttp!=4.0.0a0,!=4.0.0a1->fsspec[http]<=2025.3.0,>=2023.1.0->datasets)\n",
      "  Using cached propcache-0.3.2-cp312-cp312-macosx_11_0_arm64.whl.metadata (12 kB)\n",
      "Collecting yarl<2.0,>=1.17.0 (from aiohttp!=4.0.0a0,!=4.0.0a1->fsspec[http]<=2025.3.0,>=2023.1.0->datasets)\n",
      "  Using cached yarl-1.20.1-cp312-cp312-macosx_11_0_arm64.whl.metadata (73 kB)\n",
      "Requirement already satisfied: six>=1.5 in /opt/anaconda3/lib/python3.12/site-packages (from python-dateutil>=2.8.2->pandas->datasets) (1.16.0)\n",
      "Downloading aiohttp-3.12.15-cp312-cp312-macosx_11_0_arm64.whl (469 kB)\n",
      "\u001b[2K   \u001b[90m━━━━━━━━━━━━━━━━━━━━━━━━━━━━━━━━━━━━━━━━\u001b[0m \u001b[32m469.8/469.8 kB\u001b[0m \u001b[31m4.4 MB/s\u001b[0m eta \u001b[36m0:00:00\u001b[0ma \u001b[36m0:00:01\u001b[0m\n",
      "\u001b[?25hUsing cached aiohappyeyeballs-2.6.1-py3-none-any.whl (15 kB)\n",
      "Using cached aiosignal-1.4.0-py3-none-any.whl (7.5 kB)\n",
      "Using cached propcache-0.3.2-cp312-cp312-macosx_11_0_arm64.whl (43 kB)\n",
      "Using cached yarl-1.20.1-cp312-cp312-macosx_11_0_arm64.whl (89 kB)\n",
      "Installing collected packages: propcache, aiosignal, aiohappyeyeballs, yarl, aiohttp\n",
      "  Attempting uninstall: aiosignal\n",
      "    Found existing installation: aiosignal 1.2.0\n",
      "    Uninstalling aiosignal-1.2.0:\n",
      "      Successfully uninstalled aiosignal-1.2.0\n",
      "  Attempting uninstall: yarl\n",
      "    Found existing installation: yarl 1.9.3\n",
      "    Uninstalling yarl-1.9.3:\n",
      "      Successfully uninstalled yarl-1.9.3\n",
      "Successfully installed aiohappyeyeballs-2.6.1 aiohttp-3.12.15 aiosignal-1.4.0 propcache-0.3.2 yarl-1.20.1\n"
     ]
    }
   ],
   "source": [
    "!pip install datasets"
   ]
  },
  {
   "cell_type": "code",
   "execution_count": 87,
   "id": "9ddb0112-abd5-4259-bb1e-c67585f110ed",
   "metadata": {},
   "outputs": [
    {
     "name": "stderr",
     "output_type": "stream",
     "text": [
      "Repo card metadata block was not found. Setting CardData to empty.\n"
     ]
    },
    {
     "data": {
      "application/vnd.jupyter.widget-view+json": {
       "model_id": "f3a0160c3e1b4e6780283103839bef03",
       "version_major": 2,
       "version_minor": 0
      },
      "text/plain": [
       "healthcare_data.csv:   0%|          | 0.00/45.8M [00:00<?, ?B/s]"
      ]
     },
     "metadata": {},
     "output_type": "display_data"
    },
    {
     "data": {
      "application/vnd.jupyter.widget-view+json": {
       "model_id": "3f5a6bee337248d4a2a0f2a72adecb1a",
       "version_major": 2,
       "version_minor": 0
      },
      "text/plain": [
       "Generating train split:   0%|          | 0/500000 [00:00<?, ? examples/s]"
      ]
     },
     "metadata": {},
     "output_type": "display_data"
    }
   ],
   "source": [
    "from datasets import load_dataset\n",
    "ds = load_dataset(\"solomonk/reddit_mental_health_posts\")\n",
    "ds2 = load_dataset(\"Nicolybgs/healthcare_data\")"
   ]
  },
  {
   "cell_type": "code",
   "execution_count": null,
   "id": "5d8d232f-88e7-4e0c-9678-b8ddd2e61b02",
   "metadata": {},
   "outputs": [],
   "source": [
    "# First dataset"
   ]
  },
  {
   "cell_type": "code",
   "execution_count": 21,
   "id": "c06d9d75-9701-4ce0-891a-74dacd0d670e",
   "metadata": {},
   "outputs": [
    {
     "data": {
      "text/plain": [
       "DatasetDict({\n",
       "    train: Dataset({\n",
       "        features: ['author', 'body', 'created_utc', 'id', 'num_comments', 'score', 'subreddit', 'title', 'upvote_ratio', 'url'],\n",
       "        num_rows: 151288\n",
       "    })\n",
       "})"
      ]
     },
     "execution_count": 21,
     "metadata": {},
     "output_type": "execute_result"
    }
   ],
   "source": [
    "ds"
   ]
  },
  {
   "cell_type": "code",
   "execution_count": 19,
   "id": "08965ed8-d87b-4bf0-b506-a4144c11883d",
   "metadata": {},
   "outputs": [
    {
     "data": {
      "text/plain": [
       "{'author': Value(dtype='string', id=None),\n",
       " 'body': Value(dtype='string', id=None),\n",
       " 'created_utc': Value(dtype='string', id=None),\n",
       " 'id': Value(dtype='string', id=None),\n",
       " 'num_comments': Value(dtype='int64', id=None),\n",
       " 'score': Value(dtype='int64', id=None),\n",
       " 'subreddit': Value(dtype='string', id=None),\n",
       " 'title': Value(dtype='string', id=None),\n",
       " 'upvote_ratio': Value(dtype='float64', id=None),\n",
       " 'url': Value(dtype='string', id=None)}"
      ]
     },
     "execution_count": 19,
     "metadata": {},
     "output_type": "execute_result"
    }
   ],
   "source": [
    "ds['train'].features"
   ]
  },
  {
   "cell_type": "code",
   "execution_count": 17,
   "id": "833d5fb7-4e92-46da-8565-33c45e010b75",
   "metadata": {},
   "outputs": [
    {
     "name": "stdout",
     "output_type": "stream",
     "text": [
      "{'author': 'HotConversation1273', 'body': 'A few months ago I was accepted into this full time software engineering fellowship and it’s made me realize that I CANNOT work sustainably to save my life. It’s so hard to prioritize my time when I get so hyper focused on each task or just on something completely irrelevant. \\n\\nI was just diagnosed last year so I’m still learning how to learn with ADHD but I feel even more pressure to work so much harder to prove my worth bc I’m a Black woman in engineering. I’ve been falling into a really unhealthy cycle of taking more than my prescribed dose to work longer bc I’d waste so much time during the day and it’s just gotten out of hand. it’s like you go your whole life feeling so dumb and incompetent and now you don’t and you just wanna learn everything all the time but that’s just??? not sustainable or normal. anyways idk sorry for the rant, I’m just tired & don’t know what to do', 'created_utc': '2021-12-22T18:32:56.000Z', 'id': 'rmbjwb', 'num_comments': 1, 'score': 1, 'subreddit': 'ADHD', 'title': 'I get extremely anxious if I’m not working 24/7', 'upvote_ratio': 1.0, 'url': 'https://www.reddit.com/r/ADHD/comments/rmbjwb/i_get_extremely_anxious_if_im_not_working_247/'}\n"
     ]
    }
   ],
   "source": [
    "print(ds['train'][0]) "
   ]
  },
  {
   "cell_type": "code",
   "execution_count": 29,
   "id": "af9fbac4-6a4e-46c7-bee2-36536b4ee0c7",
   "metadata": {},
   "outputs": [
    {
     "data": {
      "text/plain": [
       "Index(['author', 'body', 'created_utc', 'id', 'num_comments', 'score',\n",
       "       'subreddit', 'title', 'upvote_ratio', 'url'],\n",
       "      dtype='object')"
      ]
     },
     "execution_count": 29,
     "metadata": {},
     "output_type": "execute_result"
    }
   ],
   "source": [
    "import pandas as pd\n",
    "# profile the dataset, understand the structure, distribution, and patterns in the data. \n",
    "df = ds['train'].to_pandas()"
   ]
  },
  {
   "cell_type": "code",
   "execution_count": 45,
   "id": "f123b52f-9487-407c-9d18-899fd48acf33",
   "metadata": {},
   "outputs": [
    {
     "data": {
      "text/plain": [
       "Index(['author', 'body', 'created_utc', 'id', 'num_comments', 'score',\n",
       "       'subreddit', 'title', 'upvote_ratio', 'url'],\n",
       "      dtype='object')"
      ]
     },
     "execution_count": 45,
     "metadata": {},
     "output_type": "execute_result"
    }
   ],
   "source": [
    "df.columns"
   ]
  },
  {
   "cell_type": "code",
   "execution_count": 41,
   "id": "42728129-d09b-481a-9874-6814d978147d",
   "metadata": {},
   "outputs": [
    {
     "name": "stdout",
     "output_type": "stream",
     "text": [
      "<class 'pandas.core.frame.DataFrame'>\n",
      "RangeIndex: 151288 entries, 0 to 151287\n",
      "Data columns (total 10 columns):\n",
      " #   Column        Non-Null Count   Dtype  \n",
      "---  ------        --------------   -----  \n",
      " 0   author        151288 non-null  object \n",
      " 1   body          149679 non-null  object \n",
      " 2   created_utc   151288 non-null  object \n",
      " 3   id            151288 non-null  object \n",
      " 4   num_comments  151288 non-null  int64  \n",
      " 5   score         151288 non-null  int64  \n",
      " 6   subreddit     151288 non-null  object \n",
      " 7   title         151288 non-null  object \n",
      " 8   upvote_ratio  151288 non-null  float64\n",
      " 9   url           151288 non-null  object \n",
      "dtypes: float64(1), int64(2), object(7)\n",
      "memory usage: 11.5+ MB\n"
     ]
    }
   ],
   "source": [
    "df.info()"
   ]
  },
  {
   "cell_type": "code",
   "execution_count": 39,
   "id": "f12be29f-5826-4c17-beed-d14d4494216d",
   "metadata": {},
   "outputs": [
    {
     "data": {
      "text/html": [
       "<div>\n",
       "<style scoped>\n",
       "    .dataframe tbody tr th:only-of-type {\n",
       "        vertical-align: middle;\n",
       "    }\n",
       "\n",
       "    .dataframe tbody tr th {\n",
       "        vertical-align: top;\n",
       "    }\n",
       "\n",
       "    .dataframe thead th {\n",
       "        text-align: right;\n",
       "    }\n",
       "</style>\n",
       "<table border=\"1\" class=\"dataframe\">\n",
       "  <thead>\n",
       "    <tr style=\"text-align: right;\">\n",
       "      <th></th>\n",
       "      <th>author</th>\n",
       "      <th>body</th>\n",
       "      <th>created_utc</th>\n",
       "      <th>id</th>\n",
       "      <th>num_comments</th>\n",
       "      <th>score</th>\n",
       "      <th>subreddit</th>\n",
       "      <th>title</th>\n",
       "      <th>upvote_ratio</th>\n",
       "      <th>url</th>\n",
       "    </tr>\n",
       "  </thead>\n",
       "  <tbody>\n",
       "    <tr>\n",
       "      <th>0</th>\n",
       "      <td>HotConversation1273</td>\n",
       "      <td>A few months ago I was accepted into this full...</td>\n",
       "      <td>2021-12-22T18:32:56.000Z</td>\n",
       "      <td>rmbjwb</td>\n",
       "      <td>1</td>\n",
       "      <td>1</td>\n",
       "      <td>ADHD</td>\n",
       "      <td>I get extremely anxious if I’m not working 24/7</td>\n",
       "      <td>1.0</td>\n",
       "      <td>https://www.reddit.com/r/ADHD/comments/rmbjwb/...</td>\n",
       "    </tr>\n",
       "    <tr>\n",
       "      <th>1</th>\n",
       "      <td>snorefestt</td>\n",
       "      <td>Hey guys, I was curious if anyone else has the...</td>\n",
       "      <td>2021-12-22T18:24:25.000Z</td>\n",
       "      <td>rmbd1y</td>\n",
       "      <td>3</td>\n",
       "      <td>5</td>\n",
       "      <td>ADHD</td>\n",
       "      <td>I can't will myself to clean my own house, but...</td>\n",
       "      <td>1.0</td>\n",
       "      <td>https://www.reddit.com/r/ADHD/comments/rmbd1y/...</td>\n",
       "    </tr>\n",
       "    <tr>\n",
       "      <th>2</th>\n",
       "      <td>etyf12</td>\n",
       "      <td>\\n\\ni have 6 exams in the next 2 weeks one of...</td>\n",
       "      <td>2021-12-22T18:22:52.000Z</td>\n",
       "      <td>rmbbvu</td>\n",
       "      <td>1</td>\n",
       "      <td>2</td>\n",
       "      <td>ADHD</td>\n",
       "      <td>i need some help</td>\n",
       "      <td>1.0</td>\n",
       "      <td>https://www.reddit.com/r/ADHD/comments/rmbbvu/...</td>\n",
       "    </tr>\n",
       "    <tr>\n",
       "      <th>3</th>\n",
       "      <td>GetHairOrDieTryin</td>\n",
       "      <td>Is there anyone out there that is struggling w...</td>\n",
       "      <td>2021-12-22T18:20:35.000Z</td>\n",
       "      <td>rmba1t</td>\n",
       "      <td>3</td>\n",
       "      <td>2</td>\n",
       "      <td>ADHD</td>\n",
       "      <td>Anyone up for a chat?</td>\n",
       "      <td>1.0</td>\n",
       "      <td>https://www.reddit.com/r/ADHD/comments/rmba1t/...</td>\n",
       "    </tr>\n",
       "    <tr>\n",
       "      <th>4</th>\n",
       "      <td>ZeroTransPat</td>\n",
       "      <td>Whenever I get hungry, I never eat because I d...</td>\n",
       "      <td>2021-12-22T18:18:47.000Z</td>\n",
       "      <td>rmb8lm</td>\n",
       "      <td>2</td>\n",
       "      <td>1</td>\n",
       "      <td>ADHD</td>\n",
       "      <td>Figuring out what to eat sucks</td>\n",
       "      <td>1.0</td>\n",
       "      <td>https://www.reddit.com/r/ADHD/comments/rmb8lm/...</td>\n",
       "    </tr>\n",
       "  </tbody>\n",
       "</table>\n",
       "</div>"
      ],
      "text/plain": [
       "                author                                               body  \\\n",
       "0  HotConversation1273  A few months ago I was accepted into this full...   \n",
       "1           snorefestt  Hey guys, I was curious if anyone else has the...   \n",
       "2               etyf12   \\n\\ni have 6 exams in the next 2 weeks one of...   \n",
       "3    GetHairOrDieTryin  Is there anyone out there that is struggling w...   \n",
       "4         ZeroTransPat  Whenever I get hungry, I never eat because I d...   \n",
       "\n",
       "                created_utc      id  num_comments  score subreddit  \\\n",
       "0  2021-12-22T18:32:56.000Z  rmbjwb             1      1      ADHD   \n",
       "1  2021-12-22T18:24:25.000Z  rmbd1y             3      5      ADHD   \n",
       "2  2021-12-22T18:22:52.000Z  rmbbvu             1      2      ADHD   \n",
       "3  2021-12-22T18:20:35.000Z  rmba1t             3      2      ADHD   \n",
       "4  2021-12-22T18:18:47.000Z  rmb8lm             2      1      ADHD   \n",
       "\n",
       "                                               title  upvote_ratio  \\\n",
       "0    I get extremely anxious if I’m not working 24/7           1.0   \n",
       "1  I can't will myself to clean my own house, but...           1.0   \n",
       "2                                   i need some help           1.0   \n",
       "3                              Anyone up for a chat?           1.0   \n",
       "4                     Figuring out what to eat sucks           1.0   \n",
       "\n",
       "                                                 url  \n",
       "0  https://www.reddit.com/r/ADHD/comments/rmbjwb/...  \n",
       "1  https://www.reddit.com/r/ADHD/comments/rmbd1y/...  \n",
       "2  https://www.reddit.com/r/ADHD/comments/rmbbvu/...  \n",
       "3  https://www.reddit.com/r/ADHD/comments/rmba1t/...  \n",
       "4  https://www.reddit.com/r/ADHD/comments/rmb8lm/...  "
      ]
     },
     "execution_count": 39,
     "metadata": {},
     "output_type": "execute_result"
    }
   ],
   "source": [
    "df.head()"
   ]
  },
  {
   "cell_type": "code",
   "execution_count": 47,
   "id": "0a8ef42e-887f-4ee6-afa1-ec7652996a50",
   "metadata": {},
   "outputs": [
    {
     "data": {
      "text/html": [
       "<div>\n",
       "<style scoped>\n",
       "    .dataframe tbody tr th:only-of-type {\n",
       "        vertical-align: middle;\n",
       "    }\n",
       "\n",
       "    .dataframe tbody tr th {\n",
       "        vertical-align: top;\n",
       "    }\n",
       "\n",
       "    .dataframe thead th {\n",
       "        text-align: right;\n",
       "    }\n",
       "</style>\n",
       "<table border=\"1\" class=\"dataframe\">\n",
       "  <thead>\n",
       "    <tr style=\"text-align: right;\">\n",
       "      <th></th>\n",
       "      <th>num_comments</th>\n",
       "      <th>score</th>\n",
       "      <th>upvote_ratio</th>\n",
       "    </tr>\n",
       "  </thead>\n",
       "  <tbody>\n",
       "    <tr>\n",
       "      <th>count</th>\n",
       "      <td>151288.000000</td>\n",
       "      <td>151288.000000</td>\n",
       "      <td>151288.000000</td>\n",
       "    </tr>\n",
       "    <tr>\n",
       "      <th>mean</th>\n",
       "      <td>6.816317</td>\n",
       "      <td>17.477401</td>\n",
       "      <td>0.939577</td>\n",
       "    </tr>\n",
       "    <tr>\n",
       "      <th>std</th>\n",
       "      <td>30.266073</td>\n",
       "      <td>113.411191</td>\n",
       "      <td>0.125414</td>\n",
       "    </tr>\n",
       "    <tr>\n",
       "      <th>min</th>\n",
       "      <td>0.000000</td>\n",
       "      <td>0.000000</td>\n",
       "      <td>0.050000</td>\n",
       "    </tr>\n",
       "    <tr>\n",
       "      <th>25%</th>\n",
       "      <td>1.000000</td>\n",
       "      <td>1.000000</td>\n",
       "      <td>0.950000</td>\n",
       "    </tr>\n",
       "    <tr>\n",
       "      <th>50%</th>\n",
       "      <td>2.000000</td>\n",
       "      <td>2.000000</td>\n",
       "      <td>1.000000</td>\n",
       "    </tr>\n",
       "    <tr>\n",
       "      <th>75%</th>\n",
       "      <td>5.000000</td>\n",
       "      <td>6.000000</td>\n",
       "      <td>1.000000</td>\n",
       "    </tr>\n",
       "    <tr>\n",
       "      <th>max</th>\n",
       "      <td>2944.000000</td>\n",
       "      <td>6055.000000</td>\n",
       "      <td>1.000000</td>\n",
       "    </tr>\n",
       "  </tbody>\n",
       "</table>\n",
       "</div>"
      ],
      "text/plain": [
       "        num_comments          score   upvote_ratio\n",
       "count  151288.000000  151288.000000  151288.000000\n",
       "mean        6.816317      17.477401       0.939577\n",
       "std        30.266073     113.411191       0.125414\n",
       "min         0.000000       0.000000       0.050000\n",
       "25%         1.000000       1.000000       0.950000\n",
       "50%         2.000000       2.000000       1.000000\n",
       "75%         5.000000       6.000000       1.000000\n",
       "max      2944.000000    6055.000000       1.000000"
      ]
     },
     "execution_count": 47,
     "metadata": {},
     "output_type": "execute_result"
    }
   ],
   "source": [
    "df.describe()"
   ]
  },
  {
   "cell_type": "code",
   "execution_count": 49,
   "id": "32c83a85-9315-4f0b-8ffd-7d0a7b07cce0",
   "metadata": {},
   "outputs": [
    {
     "data": {
      "text/plain": [
       "subreddit\n",
       "OCD           42826\n",
       "ADHD          37109\n",
       "depression    24031\n",
       "ptsd          24028\n",
       "aspergers     23294\n",
       "Name: count, dtype: int64"
      ]
     },
     "execution_count": 49,
     "metadata": {},
     "output_type": "execute_result"
    }
   ],
   "source": [
    "df['subreddit'].value_counts()"
   ]
  },
  {
   "cell_type": "code",
   "execution_count": 51,
   "id": "2da359ee-31bc-4596-973b-a67610db68f0",
   "metadata": {},
   "outputs": [
    {
     "data": {
      "text/plain": [
       "<Axes: >"
      ]
     },
     "execution_count": 51,
     "metadata": {},
     "output_type": "execute_result"
    },
    {
     "data": {
      "image/png": "[encoded data removed]",
      "text/plain": [
       "<Figure size 640x480 with 1 Axes>"
      ]
     },
     "metadata": {},
     "output_type": "display_data"
    }
   ],
   "source": [
    "df['body'].str.len().hist()"
   ]
  },
  {
   "cell_type": "code",
   "execution_count": null,
   "id": "54f1c235-3ca8-481c-8fe3-b8121ed987da",
   "metadata": {},
   "outputs": [],
   "source": [
    "# Second dataset"
   ]
  },
  {
   "cell_type": "code",
   "execution_count": 89,
   "id": "9b4ac4d1-88f9-4079-aae4-7dca78bac526",
   "metadata": {},
   "outputs": [
    {
     "data": {
      "text/plain": [
       "DatasetDict({\n",
       "    train: Dataset({\n",
       "        features: ['Available Extra Rooms in Hospital', 'Department', 'Ward_Facility_Code', 'doctor_name', 'staff_available', 'patientid', 'Age', 'gender', 'Type of Admission', 'Severity of Illness', 'health_conditions', 'Visitors with Patient', 'Insurance', 'Admission_Deposit', 'Stay (in days)'],\n",
       "        num_rows: 500000\n",
       "    })\n",
       "})"
      ]
     },
     "execution_count": 89,
     "metadata": {},
     "output_type": "execute_result"
    }
   ],
   "source": [
    "ds2"
   ]
  },
  {
   "cell_type": "code",
   "execution_count": 91,
   "id": "a146d4b8-994e-4e8c-abed-4a148ef88038",
   "metadata": {},
   "outputs": [
    {
     "data": {
      "text/plain": [
       "{'Available Extra Rooms in Hospital': Value(dtype='int64', id=None),\n",
       " 'Department': Value(dtype='string', id=None),\n",
       " 'Ward_Facility_Code': Value(dtype='string', id=None),\n",
       " 'doctor_name': Value(dtype='string', id=None),\n",
       " 'staff_available': Value(dtype='int64', id=None),\n",
       " 'patientid': Value(dtype='int64', id=None),\n",
       " 'Age': Value(dtype='string', id=None),\n",
       " 'gender': Value(dtype='string', id=None),\n",
       " 'Type of Admission': Value(dtype='string', id=None),\n",
       " 'Severity of Illness': Value(dtype='string', id=None),\n",
       " 'health_conditions': Value(dtype='string', id=None),\n",
       " 'Visitors with Patient': Value(dtype='int64', id=None),\n",
       " 'Insurance': Value(dtype='string', id=None),\n",
       " 'Admission_Deposit': Value(dtype='float64', id=None),\n",
       " 'Stay (in days)': Value(dtype='int64', id=None)}"
      ]
     },
     "execution_count": 91,
     "metadata": {},
     "output_type": "execute_result"
    }
   ],
   "source": [
    "ds2['train'].features"
   ]
  },
  {
   "cell_type": "code",
   "execution_count": 93,
   "id": "e07cd3d3-b36d-48bd-96f1-6fae332aef71",
   "metadata": {},
   "outputs": [],
   "source": [
    "import pandas as pd\n",
    "# profile the dataset, understand the structure, distribution, and patterns in the data. \n",
    "df2 = ds2['train'].to_pandas()"
   ]
  },
  {
   "cell_type": "code",
   "execution_count": 95,
   "id": "43bb6489-df71-47e2-9648-869990353eea",
   "metadata": {},
   "outputs": [
    {
     "data": {
      "text/plain": [
       "Index(['Available Extra Rooms in Hospital', 'Department', 'Ward_Facility_Code',\n",
       "       'doctor_name', 'staff_available', 'patientid', 'Age', 'gender',\n",
       "       'Type of Admission', 'Severity of Illness', 'health_conditions',\n",
       "       'Visitors with Patient', 'Insurance', 'Admission_Deposit',\n",
       "       'Stay (in days)'],\n",
       "      dtype='object')"
      ]
     },
     "execution_count": 95,
     "metadata": {},
     "output_type": "execute_result"
    }
   ],
   "source": [
    "df2.columns"
   ]
  },
  {
   "cell_type": "code",
   "execution_count": 99,
   "id": "ce172666-2b32-4287-9862-60c8dd427850",
   "metadata": {},
   "outputs": [
    {
     "data": {
      "text/html": [
       "<div>\n",
       "<style scoped>\n",
       "    .dataframe tbody tr th:only-of-type {\n",
       "        vertical-align: middle;\n",
       "    }\n",
       "\n",
       "    .dataframe tbody tr th {\n",
       "        vertical-align: top;\n",
       "    }\n",
       "\n",
       "    .dataframe thead th {\n",
       "        text-align: right;\n",
       "    }\n",
       "</style>\n",
       "<table border=\"1\" class=\"dataframe\">\n",
       "  <thead>\n",
       "    <tr style=\"text-align: right;\">\n",
       "      <th></th>\n",
       "      <th>Available Extra Rooms in Hospital</th>\n",
       "      <th>Department</th>\n",
       "      <th>Ward_Facility_Code</th>\n",
       "      <th>doctor_name</th>\n",
       "      <th>staff_available</th>\n",
       "      <th>patientid</th>\n",
       "      <th>Age</th>\n",
       "      <th>gender</th>\n",
       "      <th>Type of Admission</th>\n",
       "      <th>Severity of Illness</th>\n",
       "      <th>health_conditions</th>\n",
       "      <th>Visitors with Patient</th>\n",
       "      <th>Insurance</th>\n",
       "      <th>Admission_Deposit</th>\n",
       "      <th>Stay (in days)</th>\n",
       "    </tr>\n",
       "  </thead>\n",
       "  <tbody>\n",
       "    <tr>\n",
       "      <th>0</th>\n",
       "      <td>4</td>\n",
       "      <td>gynecology</td>\n",
       "      <td>D</td>\n",
       "      <td>Dr Sophia</td>\n",
       "      <td>0</td>\n",
       "      <td>33070</td>\n",
       "      <td>41-50</td>\n",
       "      <td>Female</td>\n",
       "      <td>Trauma</td>\n",
       "      <td>Extreme</td>\n",
       "      <td>Diabetes</td>\n",
       "      <td>4</td>\n",
       "      <td>Yes</td>\n",
       "      <td>2966.408696</td>\n",
       "      <td>8</td>\n",
       "    </tr>\n",
       "    <tr>\n",
       "      <th>1</th>\n",
       "      <td>4</td>\n",
       "      <td>gynecology</td>\n",
       "      <td>B</td>\n",
       "      <td>Dr Sophia</td>\n",
       "      <td>2</td>\n",
       "      <td>34808</td>\n",
       "      <td>31-40</td>\n",
       "      <td>Female</td>\n",
       "      <td>Trauma</td>\n",
       "      <td>Minor</td>\n",
       "      <td>Heart disease</td>\n",
       "      <td>2</td>\n",
       "      <td>No</td>\n",
       "      <td>3554.835677</td>\n",
       "      <td>9</td>\n",
       "    </tr>\n",
       "    <tr>\n",
       "      <th>2</th>\n",
       "      <td>2</td>\n",
       "      <td>gynecology</td>\n",
       "      <td>B</td>\n",
       "      <td>Dr Sophia</td>\n",
       "      <td>8</td>\n",
       "      <td>44577</td>\n",
       "      <td>21-30</td>\n",
       "      <td>Female</td>\n",
       "      <td>Trauma</td>\n",
       "      <td>Extreme</td>\n",
       "      <td>Diabetes</td>\n",
       "      <td>2</td>\n",
       "      <td>Yes</td>\n",
       "      <td>5624.733654</td>\n",
       "      <td>7</td>\n",
       "    </tr>\n",
       "    <tr>\n",
       "      <th>3</th>\n",
       "      <td>4</td>\n",
       "      <td>gynecology</td>\n",
       "      <td>D</td>\n",
       "      <td>Dr Olivia</td>\n",
       "      <td>7</td>\n",
       "      <td>3695</td>\n",
       "      <td>31-40</td>\n",
       "      <td>Female</td>\n",
       "      <td>Urgent</td>\n",
       "      <td>Moderate</td>\n",
       "      <td>None</td>\n",
       "      <td>4</td>\n",
       "      <td>No</td>\n",
       "      <td>4814.149231</td>\n",
       "      <td>8</td>\n",
       "    </tr>\n",
       "    <tr>\n",
       "      <th>4</th>\n",
       "      <td>2</td>\n",
       "      <td>anesthesia</td>\n",
       "      <td>E</td>\n",
       "      <td>Dr Mark</td>\n",
       "      <td>10</td>\n",
       "      <td>108956</td>\n",
       "      <td>71-80</td>\n",
       "      <td>Male</td>\n",
       "      <td>Trauma</td>\n",
       "      <td>Moderate</td>\n",
       "      <td>Diabetes</td>\n",
       "      <td>2</td>\n",
       "      <td>No</td>\n",
       "      <td>5169.269637</td>\n",
       "      <td>34</td>\n",
       "    </tr>\n",
       "  </tbody>\n",
       "</table>\n",
       "</div>"
      ],
      "text/plain": [
       "   Available Extra Rooms in Hospital  Department Ward_Facility_Code  \\\n",
       "0                                  4  gynecology                  D   \n",
       "1                                  4  gynecology                  B   \n",
       "2                                  2  gynecology                  B   \n",
       "3                                  4  gynecology                  D   \n",
       "4                                  2  anesthesia                  E   \n",
       "\n",
       "  doctor_name  staff_available  patientid    Age  gender Type of Admission  \\\n",
       "0   Dr Sophia                0      33070  41-50  Female            Trauma   \n",
       "1   Dr Sophia                2      34808  31-40  Female            Trauma   \n",
       "2   Dr Sophia                8      44577  21-30  Female            Trauma   \n",
       "3   Dr Olivia                7       3695  31-40  Female            Urgent   \n",
       "4     Dr Mark               10     108956  71-80    Male            Trauma   \n",
       "\n",
       "  Severity of Illness health_conditions  Visitors with Patient Insurance  \\\n",
       "0             Extreme          Diabetes                      4       Yes   \n",
       "1               Minor     Heart disease                      2        No   \n",
       "2             Extreme          Diabetes                      2       Yes   \n",
       "3            Moderate              None                      4        No   \n",
       "4            Moderate          Diabetes                      2        No   \n",
       "\n",
       "   Admission_Deposit  Stay (in days)  \n",
       "0        2966.408696               8  \n",
       "1        3554.835677               9  \n",
       "2        5624.733654               7  \n",
       "3        4814.149231               8  \n",
       "4        5169.269637              34  "
      ]
     },
     "execution_count": 99,
     "metadata": {},
     "output_type": "execute_result"
    }
   ],
   "source": [
    "df2.head()"
   ]
  },
  {
   "cell_type": "code",
   "execution_count": 107,
   "id": "01f9d256-cfd4-4152-b8b1-741383ec8e28",
   "metadata": {},
   "outputs": [
    {
     "data": {
      "text/html": [
       "<div>\n",
       "<style scoped>\n",
       "    .dataframe tbody tr th:only-of-type {\n",
       "        vertical-align: middle;\n",
       "    }\n",
       "\n",
       "    .dataframe tbody tr th {\n",
       "        vertical-align: top;\n",
       "    }\n",
       "\n",
       "    .dataframe thead th {\n",
       "        text-align: right;\n",
       "    }\n",
       "</style>\n",
       "<table border=\"1\" class=\"dataframe\">\n",
       "  <thead>\n",
       "    <tr style=\"text-align: right;\">\n",
       "      <th></th>\n",
       "      <th>Age</th>\n",
       "      <th>gender</th>\n",
       "      <th>Type of Admission</th>\n",
       "      <th>Severity of Illness</th>\n",
       "      <th>health_conditions</th>\n",
       "      <th>Insurance</th>\n",
       "      <th>Admission_Deposit</th>\n",
       "      <th>Stay (in days)</th>\n",
       "    </tr>\n",
       "  </thead>\n",
       "  <tbody>\n",
       "    <tr>\n",
       "      <th>0</th>\n",
       "      <td>41-50</td>\n",
       "      <td>Female</td>\n",
       "      <td>Trauma</td>\n",
       "      <td>Extreme</td>\n",
       "      <td>Diabetes</td>\n",
       "      <td>Yes</td>\n",
       "      <td>2966.408696</td>\n",
       "      <td>8</td>\n",
       "    </tr>\n",
       "    <tr>\n",
       "      <th>1</th>\n",
       "      <td>31-40</td>\n",
       "      <td>Female</td>\n",
       "      <td>Trauma</td>\n",
       "      <td>Minor</td>\n",
       "      <td>Heart disease</td>\n",
       "      <td>No</td>\n",
       "      <td>3554.835677</td>\n",
       "      <td>9</td>\n",
       "    </tr>\n",
       "    <tr>\n",
       "      <th>2</th>\n",
       "      <td>21-30</td>\n",
       "      <td>Female</td>\n",
       "      <td>Trauma</td>\n",
       "      <td>Extreme</td>\n",
       "      <td>Diabetes</td>\n",
       "      <td>Yes</td>\n",
       "      <td>5624.733654</td>\n",
       "      <td>7</td>\n",
       "    </tr>\n",
       "    <tr>\n",
       "      <th>3</th>\n",
       "      <td>31-40</td>\n",
       "      <td>Female</td>\n",
       "      <td>Urgent</td>\n",
       "      <td>Moderate</td>\n",
       "      <td>None</td>\n",
       "      <td>No</td>\n",
       "      <td>4814.149231</td>\n",
       "      <td>8</td>\n",
       "    </tr>\n",
       "    <tr>\n",
       "      <th>4</th>\n",
       "      <td>71-80</td>\n",
       "      <td>Male</td>\n",
       "      <td>Trauma</td>\n",
       "      <td>Moderate</td>\n",
       "      <td>Diabetes</td>\n",
       "      <td>No</td>\n",
       "      <td>5169.269637</td>\n",
       "      <td>34</td>\n",
       "    </tr>\n",
       "  </tbody>\n",
       "</table>\n",
       "</div>"
      ],
      "text/plain": [
       "     Age  gender Type of Admission Severity of Illness health_conditions  \\\n",
       "0  41-50  Female            Trauma             Extreme          Diabetes   \n",
       "1  31-40  Female            Trauma               Minor     Heart disease   \n",
       "2  21-30  Female            Trauma             Extreme          Diabetes   \n",
       "3  31-40  Female            Urgent            Moderate              None   \n",
       "4  71-80    Male            Trauma            Moderate          Diabetes   \n",
       "\n",
       "  Insurance  Admission_Deposit  Stay (in days)  \n",
       "0       Yes        2966.408696               8  \n",
       "1        No        3554.835677               9  \n",
       "2       Yes        5624.733654               7  \n",
       "3        No        4814.149231               8  \n",
       "4        No        5169.269637              34  "
      ]
     },
     "execution_count": 107,
     "metadata": {},
     "output_type": "execute_result"
    }
   ],
   "source": [
    "keep_column = ['Age', 'gender', 'Type of Admission', 'Severity of Illness',\n",
    "    'health_conditions', 'Insurance', 'Admission_Deposit','Stay (in days)']\n",
    "df2_clean = df2[keep_column]\n",
    "df2_clean.head()"
   ]
  },
  {
   "cell_type": "code",
   "execution_count": 117,
   "id": "06764189-99ed-42af-81fb-0b51fbe7ed75",
   "metadata": {},
   "outputs": [
    {
     "data": {
      "text/plain": [
       "{'title': 'Face sing night sell.',\n",
       " 'body': 'Choose activity feel realize six four. Choose song might something thought college may go. Phone writer apply lose argue rise. Consider might who market. Second important western better both member drive see.',\n",
       " 'subreddit': 'aspergers',\n",
       " 'score': 196,\n",
       " 'num_comments': 79,\n",
       " 'age': '21-30',\n",
       " 'gender': 'Female',\n",
       " 'diagnosis': 'Other',\n",
       " 'severity': 'Moderate',\n",
       " 'insurance': 'Yes',\n",
       " 'stay_days': 9,\n",
       " 'admission_type': 'Urgent'}"
      ]
     },
     "execution_count": 117,
     "metadata": {},
     "output_type": "execute_result"
    }
   ],
   "source": [
    "import random\n",
    "from faker import Faker\n",
    "\n",
    "fake = Faker()\n",
    "\n",
    "# Reddit-style post\n",
    "reddit_post = {\n",
    "    \"title\": fake.sentence(),\n",
    "    \"body\": fake.paragraph(nb_sentences=5),\n",
    "    \"subreddit\": random.choice([\"r/depression\", \"r/ADHD\", \"r/ptsd\", \"ocd\", \"aspergers\"]),\n",
    "    \"score\": random.randint(0, 500),\n",
    "    \"num_comments\": random.randint(0, 100)\n",
    "}\n",
    "\n",
    "# Select one random row from the healthcare data\n",
    "random_health_row = df2_clean.sample(1).iloc[0]\n",
    "\n",
    "# Merge the two\n",
    "merged_record = {\n",
    "    **reddit_post,\n",
    "    \"age\": random_health_row[\"Age\"],\n",
    "    \"gender\": random_health_row[\"gender\"],\n",
    "    \"diagnosis\": random_health_row[\"health_conditions\"],\n",
    "    \"severity\": random_health_row[\"Severity of Illness\"],\n",
    "    \"insurance\": random_health_row[\"Insurance\"],\n",
    "    \"stay_days\": random_health_row[\"Stay (in days)\"],\n",
    "    \"admission_type\": random_health_row[\"Type of Admission\"]\n",
    "}\n",
    "\n",
    "# View the result\n",
    "merged_record\n"
   ]
  },
  {
   "cell_type": "code",
   "execution_count": 143,
   "id": "d896cf94-61e6-4d38-b5a5-ff8a2a13642a",
   "metadata": {},
   "outputs": [],
   "source": [
    "merged_records = []\n",
    "\n",
    "for _ in range(100000):\n",
    "    reddit_post = {\n",
    "        \"title\": fake.sentence(),\n",
    "        \"body\": fake.paragraph(nb_sentences=5),\n",
    "        \"subreddit\": random.choice([\"r/depression\", \"r/ADHD\", \"r/ptsd\", \"r/ocd\", \"r/aspergers\"]),\n",
    "        \"score\": random.randint(0, 500),\n",
    "        \"num_comments\": random.randint(0, 100)\n",
    "    }\n",
    "    \n",
    "    health_row = df2_clean.sample(1).iloc[0]\n",
    "    \n",
    "    merged_record = {\n",
    "        **reddit_post,\n",
    "        \"age\": health_row[\"Age\"],\n",
    "        \"gender\": health_row[\"gender\"],\n",
    "        \"diagnosis\": health_row[\"health_conditions\"],\n",
    "        \"severity\": health_row[\"Severity of Illness\"],\n",
    "        \"insurance\": health_row[\"Insurance\"],\n",
    "        \"stay_days\": health_row[\"Stay (in days)\"],\n",
    "        \"admission_type\": health_row[\"Type of Admission\"]\n",
    "    }\n",
    "    \n",
    "    merged_records.append(merged_record)\n"
   ]
  },
  {
   "cell_type": "code",
   "execution_count": 145,
   "id": "e5935ef0-190c-447c-b59c-e6ace5b5cc52",
   "metadata": {},
   "outputs": [
    {
     "name": "stdout",
     "output_type": "stream",
     "text": [
      "title                 0\n",
      "body                  0\n",
      "subreddit             0\n",
      "score                 0\n",
      "num_comments          0\n",
      "age                   0\n",
      "gender                0\n",
      "diagnosis         30304\n",
      "severity              0\n",
      "insurance             0\n",
      "stay_days             0\n",
      "admission_type        0\n",
      "dtype: int64\n"
     ]
    }
   ],
   "source": [
    "df_merged = pd.DataFrame(merged_records)\n",
    "print(df_merged.isnull().sum())"
   ]
  },
  {
   "cell_type": "code",
   "execution_count": 147,
   "id": "647fa113-1925-4364-bd6d-6abc2a0c27ab",
   "metadata": {},
   "outputs": [
    {
     "name": "stdout",
     "output_type": "stream",
     "text": [
      "title             0\n",
      "body              0\n",
      "subreddit         0\n",
      "score             0\n",
      "num_comments      0\n",
      "age               0\n",
      "gender            0\n",
      "diagnosis         0\n",
      "severity          0\n",
      "insurance         0\n",
      "stay_days         0\n",
      "admission_type    0\n",
      "dtype: int64\n"
     ]
    }
   ],
   "source": [
    "df_clean = df_merged.fillna({'diagnosis': 'Other'})\n",
    "print(df_clean.isnull().sum())"
   ]
  },
  {
   "cell_type": "code",
   "execution_count": 149,
   "id": "0910883b-17be-4ddb-bd6f-dc0215305ecd",
   "metadata": {},
   "outputs": [],
   "source": [
    "# Export to CSV\n",
    "df_clean.to_csv(\"synthetic_health_reddit_records.csv\", index=False)"
   ]
  },
  {
   "cell_type": "code",
   "execution_count": 151,
   "id": "1fe70ca1-40a0-4e75-bae1-35c06e035644",
   "metadata": {},
   "outputs": [
    {
     "name": "stdout",
     "output_type": "stream",
     "text": [
      "               score   num_comments      stay_days\n",
      "count  100000.000000  100000.000000  100000.000000\n",
      "mean      250.243020      50.038000      12.348130\n",
      "std       144.910542      29.207967       7.871019\n",
      "min         0.000000       0.000000       3.000000\n",
      "25%       125.000000      25.000000       8.000000\n",
      "50%       250.000000      50.000000       9.000000\n",
      "75%       376.000000      75.000000      11.000000\n",
      "max       500.000000     100.000000      50.000000\n",
      "\n",
      "--- subreddit ---\n",
      "subreddit\n",
      "r/aspergers     20273\n",
      "r/ptsd          19983\n",
      "r/depression    19969\n",
      "r/ocd           19942\n",
      "r/ADHD          19833\n",
      "Name: count, dtype: int64\n",
      "\n",
      "--- gender ---\n",
      "gender\n",
      "Female    74026\n",
      "Male      20712\n",
      "Other      5262\n",
      "Name: count, dtype: int64\n",
      "\n",
      "--- diagnosis ---\n",
      "diagnosis\n",
      "Other                  48952\n",
      "High Blood Pressure    15806\n",
      "Diabetes               15049\n",
      "Asthama                13143\n",
      "Heart disease           7050\n",
      "Name: count, dtype: int64\n",
      "\n",
      "--- severity ---\n",
      "severity\n",
      "Moderate    55843\n",
      "Minor       26381\n",
      "Extreme     17776\n",
      "Name: count, dtype: int64\n",
      "\n",
      "--- admission_type ---\n",
      "admission_type\n",
      "Trauma       62162\n",
      "Emergency    26964\n",
      "Urgent       10874\n",
      "Name: count, dtype: int64\n",
      "\n",
      "--- insurance ---\n",
      "insurance\n",
      "Yes    78706\n",
      "No     21294\n",
      "Name: count, dtype: int64\n"
     ]
    }
   ],
   "source": [
    "# Summary of numerical fields\n",
    "print(df_clean.describe())\n",
    "\n",
    "# Summary of all unique values (categorical)\n",
    "for col in ['subreddit', 'gender', 'diagnosis', 'severity', 'admission_type', 'insurance']:\n",
    "    print(f\"\\n--- {col} ---\")\n",
    "    print(df_clean[col].value_counts())\n"
   ]
  },
  {
   "cell_type": "code",
   "execution_count": 153,
   "id": "b4868e38-d802-41f0-8bd4-9d4fc52daece",
   "metadata": {},
   "outputs": [
    {
     "data": {
      "image/png": "[encoded data removed]",
      "text/plain": [
       "<Figure size 640x480 with 1 Axes>"
      ]
     },
     "metadata": {},
     "output_type": "display_data"
    },
    {
     "data": {
      "image/png": "[encoded data removed]",
      "text/plain": [
       "<Figure size 640x480 with 1 Axes>"
      ]
     },
     "metadata": {},
     "output_type": "display_data"
    },
    {
     "data": {
      "image/png": "[encoded data removed]",
      "text/plain": [
       "<Figure size 640x480 with 1 Axes>"
      ]
     },
     "metadata": {},
     "output_type": "display_data"
    }
   ],
   "source": [
    "import matplotlib.pyplot as plt\n",
    "import seaborn as sns\n",
    "\n",
    "# Gender distribution\n",
    "sns.countplot(data=df_clean, x='gender')\n",
    "plt.title(\"Gender Distribution\")\n",
    "plt.show()\n",
    "\n",
    "# Diagnosis frequency\n",
    "sns.countplot(data=df_clean, y='diagnosis', order=df_clean['diagnosis'].value_counts().index[:10])\n",
    "plt.title(\"Top 10 Diagnoses\")\n",
    "plt.show()\n",
    "\n",
    "# Stay length\n",
    "sns.histplot(df_clean['stay_days'], bins=30)\n",
    "plt.title(\"Hospital Stay Length Distribution\")\n",
    "plt.xlabel(\"Days\")\n",
    "plt.show()\n"
   ]
  },
  {
   "cell_type": "code",
   "execution_count": null,
   "id": "429997e2-d094-4786-9b43-c450ff58d0a7",
   "metadata": {},
   "outputs": [],
   "source": []
  }
 ],
 "metadata": {
  "kernelspec": {
   "display_name": "Python 3 (ipykernel)",
   "language": "python",
   "name": "python3"
  },
  "language_info": {
   "codemirror_mode": {
    "name": "ipython",
    "version": 3
   },
   "file_extension": ".py",
   "mimetype": "text/x-python",
   "name": "python",
   "nbconvert_exporter": "python",
   "pygments_lexer": "ipython3",
   "version": "3.12.4"
  }
 },
 "nbformat": 4,
 "nbformat_minor": 5
}
